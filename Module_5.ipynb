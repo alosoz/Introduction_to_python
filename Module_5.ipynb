{
  "nbformat": 4,
  "nbformat_minor": 0,
  "metadata": {
    "colab": {
      "provenance": [],
      "authorship_tag": "ABX9TyP8I7M4jvXBqkBypD2Ttx6U",
      "include_colab_link": true
    },
    "kernelspec": {
      "name": "python3",
      "display_name": "Python 3"
    },
    "language_info": {
      "name": "python"
    }
  },
  "cells": [
    {
      "cell_type": "markdown",
      "metadata": {
        "id": "view-in-github",
        "colab_type": "text"
      },
      "source": [
        "<a href=\"https://colab.research.google.com/github/alosoz/Introduction_to_python/blob/main/Module_5.ipynb\" target=\"_parent\"><img src=\"https://colab.research.google.com/assets/colab-badge.svg\" alt=\"Open In Colab\"/></a>"
      ]
    },
    {
      "cell_type": "markdown",
      "source": [
        "**file_operations**"
      ],
      "metadata": {
        "id": "hnWrIx54OucU"
      }
    },
    {
      "cell_type": "markdown",
      "source": [
        "#Create a file\n",
        "\n",
        "\n",
        "\n",
        "1.   Create a folder called \"file_operations\".\n",
        "2.   Create a file called \"message.txt\" inside \"file_operations\" folder\n",
        "\n",
        "\n",
        "\n",
        "\n"
      ],
      "metadata": {
        "id": "4vsuKp1Fn1rR"
      }
    },
    {
      "cell_type": "code",
      "execution_count": null,
      "metadata": {
        "id": "vGiW6Yl8mMy5"
      },
      "outputs": [],
      "source": [
        "# Navigate to message.txt’s directory\n",
        "%cd /content/file_operations"
      ]
    },
    {
      "cell_type": "code",
      "source": [
        "# opens hello.txt text file in the current directory\n",
        "message_file = open(\"message.txt\")"
      ],
      "metadata": {
        "id": "Ts-Gogiroc0U"
      },
      "execution_count": null,
      "outputs": []
    },
    {
      "cell_type": "code",
      "source": [
        "# specifying the full path\n",
        "message_file = open(\"/content/file_operations/message.txt\")"
      ],
      "metadata": {
        "id": "-oxnKr-yog6G"
      },
      "execution_count": null,
      "outputs": []
    },
    {
      "cell_type": "code",
      "source": [
        "message_file = open(\"message.txt\", \"r\")"
      ],
      "metadata": {
        "id": "v6FTiSivopbg"
      },
      "execution_count": null,
      "outputs": []
    },
    {
      "cell_type": "code",
      "source": [
        "content = message_file.read()\n",
        "message_file.close()"
      ],
      "metadata": {
        "id": "Y6VsltxJrxl5"
      },
      "execution_count": null,
      "outputs": []
    },
    {
      "cell_type": "code",
      "source": [
        "print(content)"
      ],
      "metadata": {
        "id": "Z_qkSuwerzpx"
      },
      "execution_count": null,
      "outputs": []
    },
    {
      "cell_type": "code",
      "source": [
        "hello_file = open(\"hello.txt\", \"w\")"
      ],
      "metadata": {
        "id": "98pZ6mwbr1wi"
      },
      "execution_count": null,
      "outputs": []
    },
    {
      "cell_type": "code",
      "source": [
        "hello_file.write('Hello world, this is Python')\n",
        "hello_file.close()"
      ],
      "metadata": {
        "id": "ddfzs2aQr7yZ"
      },
      "execution_count": null,
      "outputs": []
    },
    {
      "cell_type": "code",
      "source": [
        "​​import random\n",
        "while True:\n",
        "\n",
        "  random_number = random.randrange(1000)\n",
        "  print(random_number)\n",
        " \n",
        "  if random_number == 777:\n",
        "    print('Found!')\n",
        "    break"
      ],
      "metadata": {
        "id": "P1foCjY3sG5a"
      },
      "execution_count": null,
      "outputs": []
    },
    {
      "cell_type": "code",
      "source": [
        "import random\n",
        " \n",
        "numbers_file = open('number_history.txt', 'w')\n",
        " \n",
        "while True:\n",
        " \n",
        "  random_number = random.randrange(1000)\n",
        "  print(random_number)\n",
        "  numbers_file.write(str(random_number))\n",
        "  numbers_file.write('\\n')\n",
        " \n",
        "  if random_number == 777:\n",
        "    print('Found!')\n",
        "    numbers_file.write('Found!')\n",
        "    numbers_file.close()\n",
        "    break"
      ],
      "metadata": {
        "id": "8rJRc5K7sKFe"
      },
      "execution_count": null,
      "outputs": []
    },
    {
      "cell_type": "code",
      "source": [
        "import random\n",
        " \n",
        "with open('number_history.txt', 'w') as numbers_file:\n",
        " \n",
        "  while True:\n",
        "\n",
        "    random_number = random.randrange(1000)\n",
        "    print(random_number)\n",
        "    numbers_file.write(str(random_number))\n",
        "    numbers_file.write('\\n')\n",
        " \n",
        "    if random_number == 777:\n",
        "      print('Found!')\n",
        "      numbers_file.write('Found!')\n",
        "      break"
      ],
      "metadata": {
        "id": "97X8-s6ysmW_"
      },
      "execution_count": null,
      "outputs": []
    },
    {
      "cell_type": "markdown",
      "source": [
        "**exception_handling**"
      ],
      "metadata": {
        "id": "D6U2ZJRuOzUW"
      }
    },
    {
      "cell_type": "code",
      "execution_count": null,
      "metadata": {
        "colab": {
          "base_uri": "https://localhost:8080/",
          "height": 225
        },
        "id": "iLbI0tAPv2be",
        "outputId": "6663da6e-98a4-4e44-9856-75e582bc5ace"
      },
      "outputs": [
        {
          "name": "stdout",
          "output_type": "stream",
          "text": [
            "Please enter a Number: 5\n"
          ]
        },
        {
          "output_type": "error",
          "ename": "TypeError",
          "evalue": "ignored",
          "traceback": [
            "\u001b[0;31m---------------------------------------------------------------------------\u001b[0m",
            "\u001b[0;31mTypeError\u001b[0m                                 Traceback (most recent call last)",
            "\u001b[0;32m<ipython-input-1-676bf0715fc6>\u001b[0m in \u001b[0;36m<module>\u001b[0;34m()\u001b[0m\n\u001b[1;32m      1\u001b[0m \u001b[0mnumber1\u001b[0m\u001b[0;34m=\u001b[0m \u001b[0;36m15\u001b[0m\u001b[0;34m\u001b[0m\u001b[0;34m\u001b[0m\u001b[0m\n\u001b[1;32m      2\u001b[0m \u001b[0mnumber2\u001b[0m \u001b[0;34m=\u001b[0m \u001b[0minput\u001b[0m\u001b[0;34m(\u001b[0m\u001b[0;34m'Please enter a Number: '\u001b[0m\u001b[0;34m)\u001b[0m\u001b[0;34m\u001b[0m\u001b[0;34m\u001b[0m\u001b[0m\n\u001b[0;32m----> 3\u001b[0;31m \u001b[0mprint\u001b[0m\u001b[0;34m(\u001b[0m\u001b[0mnumber1\u001b[0m \u001b[0;34m+\u001b[0m \u001b[0mnumber2\u001b[0m\u001b[0;34m)\u001b[0m\u001b[0;34m\u001b[0m\u001b[0;34m\u001b[0m\u001b[0m\n\u001b[0m",
            "\u001b[0;31mTypeError\u001b[0m: unsupported operand type(s) for +: 'int' and 'str'"
          ]
        }
      ],
      "source": [
        "number1= 15\n",
        "number2 = input('Please enter a Number: ')\n",
        "print(number1 + number2)"
      ]
    },
    {
      "cell_type": "code",
      "source": [
        "celsius = 18\n",
        "if celsius > 20:\n",
        "  print('Good 🟩')\n",
        "  else:\n",
        "    print('Cold ❄️')"
      ],
      "metadata": {
        "colab": {
          "base_uri": "https://localhost:8080/",
          "height": 134
        },
        "id": "Xa-m0olIv_t4",
        "outputId": "167b7a26-2ba6-4e00-94b8-eb8207932dc9"
      },
      "execution_count": null,
      "outputs": [
        {
          "output_type": "error",
          "ename": "SyntaxError",
          "evalue": "ignored",
          "traceback": [
            "\u001b[0;36m  File \u001b[0;32m\"<ipython-input-4-f311b3d73e28>\"\u001b[0;36m, line \u001b[0;32m4\u001b[0m\n\u001b[0;31m    else:\u001b[0m\n\u001b[0m       ^\u001b[0m\n\u001b[0;31mSyntaxError\u001b[0m\u001b[0;31m:\u001b[0m invalid syntax\n"
          ]
        }
      ]
    },
    {
      "cell_type": "code",
      "source": [
        "def divide(number1, number2):\n",
        "   number1_integer = int(number1)\n",
        "   number2_integer = int(number2)\n",
        "   return number1_integer / number2_integer\n",
        " \n",
        "number1 = input('Please provide number1: ')\n",
        "number2 = input('Please provide number2: ')\n",
        " \n",
        "print(divide(number1, number2))"
      ],
      "metadata": {
        "id": "B_JN3n-ewIhl"
      },
      "execution_count": null,
      "outputs": []
    },
    {
      "cell_type": "code",
      "source": [
        "def divide(number1, number2):\n",
        "   try:\n",
        "       number1_integer = int(number1)\n",
        "       number2_integer = int(number2)\n",
        "       return number1_integer / number2_integer\n",
        " \n",
        "   except:\n",
        "       return 'Only integers are allowed! Try again.'\n",
        " \n",
        "number1 = input('Please provide a number1: ')\n",
        "number2 = input('Please provide a number2: ')\n",
        " \n",
        "print(divide(number1, number2))"
      ],
      "metadata": {
        "id": "pNCd4AhrwZ2q"
      },
      "execution_count": null,
      "outputs": []
    },
    {
      "cell_type": "code",
      "source": [
        "def divide(number1, number2):\n",
        "   try:\n",
        "       number1_integer = int(number1)\n",
        "       number2_integer = int(number2)\n",
        "       return number1_integer / number2_integer\n",
        "  \n",
        "   except ValueError:\n",
        "       return 'Only integers are allowed!'\n",
        " \n",
        "   except ZeroDivisionError:\n",
        "       return 'You cannot divide any number by zero!'\n",
        "\n",
        "\n",
        "\n",
        "number1 = input('Please provide a number1: ')\n",
        "number2 = input('Please provide a number2: ')\n",
        " \n",
        "print(divide(number1, number2))"
      ],
      "metadata": {
        "id": "XknaWgVbwalQ"
      },
      "execution_count": null,
      "outputs": []
    },
    {
      "cell_type": "markdown",
      "source": [
        "#**Practical exercise 5**"
      ],
      "metadata": {
        "id": "hwNOuaSNQ75s"
      }
    },
    {
      "cell_type": "markdown",
      "source": [
        "# Practical exercise 5:  Become a teacher assistant\n",
        "\n",
        "For this practical exercise, imagine you are a student in a chemistry class.\n",
        "\n",
        "Your teacher assigned you a task to create a report card on your classmates' chemistry exams. \n",
        "\n",
        "📌 The exam scores are given as points between 0 and 100, but in the report card the grade have to be given as letters. \n",
        "\n",
        "📌 He has provided you with the conversion table so that you can convert points to letters.\n"
      ],
      "metadata": {
        "id": "tBDsFMQwBs6Z"
      }
    },
    {
      "cell_type": "markdown",
      "source": [
        "## Warm up\n",
        "\n",
        "Before you start working on the report card and practicing file operations and exceptions handling, let's warm up by defining the functions we will need. \n",
        "\n",
        "📌Define a function *compute_grade* that converts points to letter grades.\n",
        "\n",
        "📌This function should take points as an argument and return the grade as a letter. \n",
        "\n",
        "The conversion table is as follows:\n",
        "\n",
        "Points | Grade\n",
        "--- | ---\n",
        "70 - 100 | A\n",
        "50 - 69 | B\n",
        "30 - 49 | C\n",
        "0 - 29 | F\n",
        "\n",
        "📌 You can use if, elif and else statements. \n"
      ],
      "metadata": {
        "id": "ymULFKyosM3d"
      }
    },
    {
      "cell_type": "code",
      "source": [
        "#Define a function compute_grade that takes points as an argument and returns the grade as a letter\n",
        "def compute_grade(Points):\n",
        "  if Points >= 70:\n",
        "    Grade = 'A'\n",
        "  elif Points >= 50:\n",
        "    Grade = 'B'\n",
        "  elif Points >= 30:\n",
        "    Grade = 'C'\n",
        "  elif Points <30:\n",
        "    Grade = 'F'\n",
        "  else:\n",
        "    print(\"something went wrong\")\n",
        "  return Grade\n"
      ],
      "metadata": {
        "id": "0w6HGZBvsvru"
      },
      "execution_count": null,
      "outputs": []
    },
    {
      "cell_type": "markdown",
      "source": [
        "Let's check if your function is working.\n",
        "\n",
        "One of your classmates got 39 points in the exam. Use the function *compute_grade* to check his grade."
      ],
      "metadata": {
        "id": "_FciCSMIwDUv"
      }
    },
    {
      "cell_type": "code",
      "source": [
        "#Call the function to convert 39 points to a letter grade\n",
        "compute_grade(39)"
      ],
      "metadata": {
        "id": "fzGQtlg-wKF9",
        "colab": {
          "base_uri": "https://localhost:8080/",
          "height": 36
        },
        "outputId": "98eec2f7-f51e-40cf-8c2d-0cc494918e35"
      },
      "execution_count": null,
      "outputs": [
        {
          "output_type": "execute_result",
          "data": {
            "text/plain": [
              "'C'"
            ],
            "application/vnd.google.colaboratory.intrinsic+json": {
              "type": "string"
            }
          },
          "metadata": {},
          "execution_count": 54
        }
      ]
    },
    {
      "cell_type": "markdown",
      "source": [
        "## Prepare the report card message\n",
        "\n",
        "Now, you have a function to convert the points to letter grades. But to make a report card, we need more information. \n",
        "\n",
        "The report card should also include the name of the student, their points, and the resulting grade. All of this can be written in a sentence like this: \"[Student name] scored [points]/100 points in Chemistry and got the grade [letter grade]\"\n",
        "\n",
        "###Here are the steps to do this:\n",
        "\n",
        "📌 Define a function (e.g. *report_message*) that takes the student name and the points as an argument.\n",
        "\n",
        "📌 Inside the function, use the *compute_grade* function to convert the points to a letter grade.\n",
        "\n",
        "🧨 You can use the '+' sign to concatenate strings. \n",
        "\n",
        "💣 You might need to convert variables to string data type to be able to include them in the message.\n",
        "\n"
      ],
      "metadata": {
        "id": "SdHhl_uArXUE"
      }
    },
    {
      "cell_type": "code",
      "source": [
        "#Define a function that takes the student name and the points as an argument and returns the message for the report card\n",
        "def report_message(Student_name, points):\n",
        "  grade = compute_grade(points)\n",
        "  return Student_name + ' scored ' + str(points) + '/100 points in Chemistry and got the grade ' + grade\n"
      ],
      "metadata": {
        "id": "_B_EcJmrsRRl"
      },
      "execution_count": null,
      "outputs": []
    },
    {
      "cell_type": "markdown",
      "source": [
        "Let's try the function for your classmate Zach, who scored 51 points."
      ],
      "metadata": {
        "id": "Tb6bW_HLvnFv"
      }
    },
    {
      "cell_type": "code",
      "source": [
        "#Call the function for you friend Zach\n",
        "report_message('Zach', 51)"
      ],
      "metadata": {
        "id": "s_1FPCimvkBz",
        "colab": {
          "base_uri": "https://localhost:8080/",
          "height": 36
        },
        "outputId": "52ecaa39-b276-42ee-ae00-62c67766671e"
      },
      "execution_count": null,
      "outputs": [
        {
          "output_type": "execute_result",
          "data": {
            "text/plain": [
              "'Zach scored 51/100 points in Chemistry and got the grade B'"
            ],
            "application/vnd.google.colaboratory.intrinsic+json": {
              "type": "string"
            }
          },
          "metadata": {},
          "execution_count": 56
        }
      ]
    },
    {
      "cell_type": "markdown",
      "source": [
        "## Help your teacher send Zach his report card\n",
        "Great! Your teacher wants you to create a report card for Zach that he can send to him. \n",
        "\n",
        "You decide that the easiest way to do this is to save the report card message inside a text file.\n",
        "\n",
        "📌 Create a text file *zach_report.txt* in which the message can be saved.\n",
        "\n",
        "💣 Remember that you can simply create a file by opening it in the write mode. \n",
        "\n",
        "📌 Use the .write() method to write the message inside the file.\n",
        "\n",
        "🧨🧨🧨 Make sure to close all the files that you open during this exercise once you are done using them!"
      ],
      "metadata": {
        "id": "U5alHNpR1QoX"
      }
    },
    {
      "cell_type": "code",
      "source": [
        "#Creat a text file for Zach's report card and write the message inside\n",
        "result_file = open('zach_report.txt','w')\n",
        "result_file.write(report_message('Zach',51))\n",
        "result_file.close()\n"
      ],
      "metadata": {
        "id": "h5qp_cM6nyLE"
      },
      "execution_count": null,
      "outputs": []
    },
    {
      "cell_type": "markdown",
      "source": [
        "## Check if report cards are already prepared\n",
        "\n",
        "Sophie got 78 points in the exam and your teacher wants to send her a report card as well. However, he doesn't remember if there is already a report card for her. Let's find out!\n",
        "\n",
        "\n",
        "📌 Check if there is already an existing report card *sophie_report.txt* by trying to open it in the read mode. If there is, print a message: 'There is an existing report card for Sophie.'\n",
        "\n",
        "📌 However, if there is none, you need to create one and write the message inside.\n",
        "\n",
        "💣 If the file does not exist, you will get an error! Make sure to apply the exception handling techniques that we covered in this module to prevent errors.\n",
        "\n",
        "📌📌📌 Use the *try* keyword to open the file sophie_report.txt in the read mode. If the file does not exist, it will throw an exception. In the *except* block, open the same file in the write mode to create the file."
      ],
      "metadata": {
        "id": "RuCQ86hs7iVy"
      }
    },
    {
      "cell_type": "code",
      "source": [
        "#Check if there is already a report card for Sophie and print a message in case there is\n",
        "try:\n",
        "  result_file = open('sophie_report.txt', 'r')\n",
        "  print('There is an existing report card for Sophie')\n",
        "\n",
        "#If there is none, create one and write the message inside\n",
        "except:\n",
        "  result_file = open(' sophie_report.txt', 'w')\n",
        "  result_file.write(report_message('Sophia', 78))\n",
        "\n",
        "result_file.close()"
      ],
      "metadata": {
        "id": "uSJI9dlz7hFg"
      },
      "execution_count": null,
      "outputs": []
    },
    {
      "cell_type": "markdown",
      "source": [
        "## Good job, your teacher is impressed!\n",
        "\n",
        "You have done a great job helping him. That's why he wants you to take it a step further and enter the grades of the whole class in a single file.\n",
        "\n",
        "Instead of a message for each student, the file should contain the names and the grades as letters in this form: \n",
        "\n",
        "*Name:Grade*\n",
        "\n",
        "\n",
        "📌 For this task you will implement a function *student_grade* which takes the student name and points as arguments. This function should use the previously defined *compute_grade* function to convert points to a letter grade. \n",
        "\n",
        "🧨🧨 There might be some missing students during the exam. Instead of the points, 'missing' will be entered for them. The function should consider the exception case when the points are not a number."
      ],
      "metadata": {
        "id": "qi17AoZFjENO"
      }
    },
    {
      "cell_type": "code",
      "source": [
        "#Define a function that takes the student name and the points as an argument and returns them as specified in the instructions\n",
        "def student_grade(student_name, points):\n",
        "\n",
        "  #return name:grade\n",
        "  try:\n",
        "    grade = compute_grade(points)\n",
        "    return ( student_name + ':' + grade)\n",
        "  #or return a message if the student was missing\n",
        "  except:\n",
        "    return (student_name + ' was missing during the exam.' )\n",
        "  "
      ],
      "metadata": {
        "id": "lvv-OGRk3_kA"
      },
      "execution_count": null,
      "outputs": []
    },
    {
      "cell_type": "markdown",
      "source": [
        "Your teacher provided you a list with the students and their points in the exam. If a student is missing, the string 'missing' is entered instead."
      ],
      "metadata": {
        "id": "0EuRGjxieE64"
      }
    },
    {
      "cell_type": "code",
      "source": [
        "#Run the list of all students and their points\n",
        "student_list = [('Zach', 51), ('Sophie', 78), ('Fred', 29), ('Belina','missing'), ('Markus','missing')]"
      ],
      "metadata": {
        "id": "KixqWzyqcBXe"
      },
      "execution_count": null,
      "outputs": []
    },
    {
      "cell_type": "markdown",
      "source": [
        "### (1) Use a for loop to access each student one at a time\n",
        "\n",
        "📌 You can loop over the list that you teacher provided you by using a for loop.\n",
        "\n",
        "📌 Unpack the tuples containing the student name and points, then use the *student_grade* function you defined earlier to convert the points into a letter grade.\n",
        "\n",
        "📌 Print the message that the *student_grade* function returns\n",
        "\n"
      ],
      "metadata": {
        "id": "Bl8E80-bPHD3"
      }
    },
    {
      "cell_type": "code",
      "source": [
        "#Write a for loop to access each student one at a time and unpack the tuple\n",
        "for name,points in student_list:\n",
        "  grade = student_grade(name,points)\n",
        "  #print the message returned by student_grade\n",
        "  print(grade)\n"
      ],
      "metadata": {
        "id": "Ty8qpsnnOtn9",
        "colab": {
          "base_uri": "https://localhost:8080/"
        },
        "outputId": "0cad6492-38b6-4320-fa86-882b1dfcca88"
      },
      "execution_count": null,
      "outputs": [
        {
          "output_type": "stream",
          "name": "stdout",
          "text": [
            "Zach:B\n",
            "Sophie:A\n",
            "Fred:F\n",
            "Belina was missing during the exam.\n",
            "Markus was missing during the exam.\n"
          ]
        }
      ]
    },
    {
      "cell_type": "markdown",
      "source": [
        "### (2) Store the names and the grades in a text file\n",
        "\n",
        "As a last step, you need to save the grades inside a file. \n",
        "\n",
        "📌 Create a file *grades.txt* by opening it in the write mode.\n",
        "\n",
        "📌 Instead of printing the grade, use the .write() method and the for loop you just created to write the grades into the file.\n",
        "\n",
        "💣 Make sure to add the escape statement '\\n' to each line you write to the file to indicate that each student should be written in it's own line.\n",
        "\n"
      ],
      "metadata": {
        "id": "j6BoFiZORx9G"
      }
    },
    {
      "cell_type": "code",
      "source": [
        "#Create the grades.txt file\n",
        "grades_file = open('grades.txt', 'w')\n",
        "\n",
        "#Use the for loop to write the name and grade of each student in the file \n",
        "for name,points in student_list:\n",
        "  grade = student_grade(name,points)\n",
        "\n",
        "  #Write the message returned by student_grade into the file\n",
        "  grades_file.write(grade + '\\n')\n"
      ],
      "metadata": {
        "id": "QDgQhXGWRxbg"
      },
      "execution_count": null,
      "outputs": []
    },
    {
      "cell_type": "markdown",
      "source": [
        "##Well done! \n",
        "You have completed all the tasks that your teacher had assigned you. Don't forget to close the grades.txt file."
      ],
      "metadata": {
        "id": "H08ejANvWdob"
      }
    },
    {
      "cell_type": "code",
      "source": [
        "#Close the file\n",
        "grades.close()"
      ],
      "metadata": {
        "id": "lUZkgrvbWcYc"
      },
      "execution_count": null,
      "outputs": []
    },
    {
      "cell_type": "markdown",
      "source": [
        "# New Section"
      ],
      "metadata": {
        "id": "YbFJi2LaTDiX"
      }
    },
    {
      "cell_type": "markdown",
      "source": [
        "##**Practical exercise 5 solution**"
      ],
      "metadata": {
        "id": "439Xb3aASQdk"
      }
    },
    {
      "cell_type": "markdown",
      "source": [
        "# Practical exercise 5:  Become a teacher assistant\n",
        "\n",
        "For this practical exercise, imagine you are a student in a chemistry class.\n",
        "\n",
        "Your teacher assigned you a task to create a report card on your classmates' chemistry exams. \n",
        "\n",
        "📌 The exam scores are given as points between 0 and 100, but in the report card the grade have to be given as letters. \n",
        "\n",
        "📌 He has provided you with the conversion table so that you can convert points to letters.\n"
      ],
      "metadata": {
        "id": "dKSR8wPRSc9G"
      }
    },
    {
      "cell_type": "markdown",
      "source": [
        "## Warm up\n",
        "\n",
        "Before you start working on the report card and practicing file operations and exceptions handling, let's warm up by defining the functions we will need. \n",
        "\n",
        "📌Define a function *compute_grade* that converts points to letter grades.\n",
        "\n",
        "📌This function should take points as an argument and return the grade as a letter. \n",
        "\n",
        "The conversion table is as follows:\n",
        "\n",
        "Points | Grade\n",
        "--- | ---\n",
        "70 - 100 | A\n",
        "50 - 69 | B\n",
        "30 - 49 | C\n",
        "0 - 29 | F\n",
        "\n",
        "📌 You can use if, elif and else statements. \n"
      ],
      "metadata": {
        "id": "h09k-p4NSc9H"
      }
    },
    {
      "cell_type": "code",
      "source": [
        "#Define a function compute_grade that takes points as an argument and returns the grade as a letter\n",
        "def compute_grade(points):\n",
        "  if points >= 70:\n",
        "    return 'A'\n",
        "  elif points >=50:\n",
        "    return 'B'\n",
        "  elif points >=30:\n",
        "    return 'C'\n",
        "  else:\n",
        "    return 'F'"
      ],
      "metadata": {
        "id": "d-5RtRyFSc9H"
      },
      "execution_count": null,
      "outputs": []
    },
    {
      "cell_type": "markdown",
      "source": [
        "Let's check if your function is working.\n",
        "\n",
        "One of your classmates got 39 points in the exam. Use the function *compute_grade* to check his grade."
      ],
      "metadata": {
        "id": "bS2YAbU9Sc9I"
      }
    },
    {
      "cell_type": "code",
      "source": [
        "#Call the function to convert 39 points to a letter grade\n",
        "compute_grade(39)"
      ],
      "metadata": {
        "colab": {
          "base_uri": "https://localhost:8080/",
          "height": 35
        },
        "outputId": "879694df-b971-4f91-94e2-72c4fb654bf4",
        "id": "y4q6e_SeSc9I"
      },
      "execution_count": null,
      "outputs": [
        {
          "output_type": "execute_result",
          "data": {
            "application/vnd.google.colaboratory.intrinsic+json": {
              "type": "string"
            },
            "text/plain": [
              "'C'"
            ]
          },
          "metadata": {},
          "execution_count": 2
        }
      ]
    },
    {
      "cell_type": "markdown",
      "source": [
        "## Prepare the report card message\n",
        "\n",
        "Now, you have a function to convert the points to letter grades. But to make a report card, we need more information. \n",
        "\n",
        "The report card should also include the name of the student, their points, and the resulting grade. All of this can be written in a sentence like this: \"[Student name] scored [points]/100 points in Chemistry and got the grade [letter grade]\"\n",
        "\n",
        "###Here are the steps to do this:\n",
        "\n",
        "📌 Define a function (e.g. *report_message*) that takes the student name and the points as an argument.\n",
        "\n",
        "📌 Inside the function, use the *compute_grade* function to convert the points to a letter grade.\n",
        "\n",
        "🧨 You can use the '+' sign to concatenate strings. \n",
        "\n",
        "💣 You might need to convert variables to string data type to be able to include them in the message.\n",
        "\n"
      ],
      "metadata": {
        "id": "JG4Ca3ZgSc9J"
      }
    },
    {
      "cell_type": "code",
      "source": [
        "#Define a function that takes the student name and the points as an argument and returns the message for the report card\n",
        "def report_message(name, points):\n",
        "  return name + \" scored \" + str(points) + \"/100 points in Chemistry and got the letter \" + compute_grade(points)"
      ],
      "metadata": {
        "id": "gc33kkD1Sc9J"
      },
      "execution_count": null,
      "outputs": []
    },
    {
      "cell_type": "markdown",
      "source": [
        "Let's try the function for your classmate Zach, who scored 51 points."
      ],
      "metadata": {
        "id": "SaqrPtcdSc9J"
      }
    },
    {
      "cell_type": "code",
      "source": [
        "#Call the function for you friend Zach\n",
        "report_message(\"Zach\", 51)"
      ],
      "metadata": {
        "colab": {
          "base_uri": "https://localhost:8080/",
          "height": 35
        },
        "outputId": "33b7f17d-ae52-425b-ebdf-ea7792a0e0e6",
        "id": "aEov5VhQSc9J"
      },
      "execution_count": null,
      "outputs": [
        {
          "output_type": "execute_result",
          "data": {
            "application/vnd.google.colaboratory.intrinsic+json": {
              "type": "string"
            },
            "text/plain": [
              "'Zach scored 51/100 points in Chemistry and got the letter B'"
            ]
          },
          "metadata": {},
          "execution_count": 4
        }
      ]
    },
    {
      "cell_type": "markdown",
      "source": [
        "## Help your teacher send Zach his report card\n",
        "Great! Your teacher wants you to create a report card for Zach that he can send to him. \n",
        "\n",
        "You decide that the easiest way to do this is to save the report card message inside a text file.\n",
        "\n",
        "📌 Create a text file *zach_report.txt* in which the message can be saved.\n",
        "\n",
        "💣 Remember that you can simply create a file by opening it in the write mode. \n",
        "\n",
        "📌 Use the .write() method to write the message inside the file.\n",
        "\n",
        "🧨🧨🧨 Make sure to close all the files that you open during this exercise once you are done using them!"
      ],
      "metadata": {
        "id": "C8WPoAE_Sc9K"
      }
    },
    {
      "cell_type": "code",
      "source": [
        "#Creat a text file for Zach's report card and write the message inside\n",
        "result_file = open(\"zach_report.txt\", 'w')\n",
        "result_file.write(report_message(\"Zach\", 51))\n",
        "result_file.close()"
      ],
      "metadata": {
        "id": "U8EfCHM3Sc9K"
      },
      "execution_count": null,
      "outputs": []
    },
    {
      "cell_type": "markdown",
      "source": [
        "## Check if report cards are already prepared\n",
        "\n",
        "Sophie got 78 points in the exam and your teacher wants to send her a report card as well. However, he doesn't remember if there is already a report card for her. Let's find out!\n",
        "\n",
        "\n",
        "📌 Check if there is already an existing report card *sophie_report.txt* by trying to open it in the read mode. If there is, print a message: 'There is an existing report card for Sophie.'\n",
        "\n",
        "📌 However, if there is none, you need to create one and write the message inside.\n",
        "\n",
        "💣 If the file does not exist, you will get an error! Make sure to apply the exception handling techniques that we covered in this module to prevent errors.\n",
        "\n",
        "📌📌📌 Use the *try* keyword to open the file sophie_report.txt in the read mode. If the file does not exist, it will throw an exception. In the *except* block, open the same file in the write mode to create the file."
      ],
      "metadata": {
        "id": "VTLDElNmSc9K"
      }
    },
    {
      "cell_type": "code",
      "source": [
        "#Check if there is already a report card for Sophie and print a message in case there is\n",
        "try:\n",
        "  result_file = open(\"sophie_report.txt\", 'r')\n",
        "  print('There is an existing report card for Sophie')\n",
        "#If there is none, create one and write the message inside\n",
        "except:\n",
        "  result_file = open(\"sophie_report.txt\", 'w')\n",
        "  result_file.write(report_message(\"Sophie\", 78))\n",
        "\n",
        "result_file.close()"
      ],
      "metadata": {
        "id": "08WN4XgiSc9K"
      },
      "execution_count": null,
      "outputs": []
    },
    {
      "cell_type": "markdown",
      "source": [
        "## Good job, your teacher is impressed!\n",
        "\n",
        "You have done a great job helping him. That's why he wants you to take it a step further and enter the grades of the whole class in a single file.\n",
        "\n",
        "Instead of a message for each student, the file should contain the names and the grades as letters in this form: \n",
        "\n",
        "*Name:Grade*\n",
        "\n",
        "\n",
        "📌 For this task you will implement a function *student_grade* which takes the student name and points as arguments. This function should use the previously defined *compute_grade* function to convert points to a letter grade. \n",
        "\n",
        "🧨🧨 There might be some missing students during the exam. Instead of the points, 'missing' will be entered for them. The function should consider the exception case when the points are not a number."
      ],
      "metadata": {
        "id": "Jl3jCKOHSc9K"
      }
    },
    {
      "cell_type": "code",
      "source": [
        "#Define a function that takes the student name and the points as an argument and returns them as specified in the instructions\n",
        "def student_grade(name, points):\n",
        "  #return name:grade\n",
        "  try:\n",
        "    return (name + ':' + compute_grade(points))\n",
        "  #or return a message if the student was missing\n",
        "  except:\n",
        "    return (name + ' was missing during the exam.')"
      ],
      "metadata": {
        "id": "sYOnSUbnSc9L"
      },
      "execution_count": null,
      "outputs": []
    },
    {
      "cell_type": "markdown",
      "source": [
        "Your teacher provided you a list with the students and their points in the exam. If a student is missing, the string 'missing' is entered instead."
      ],
      "metadata": {
        "id": "acNhq26uSc9L"
      }
    },
    {
      "cell_type": "code",
      "source": [
        "#Run the list of all students and their points\n",
        "student_list = [('Zach', 51), ('Sophie', 78), ('Fred', 29), ('Belina','missing'), ('Markus','missing')]"
      ],
      "metadata": {
        "id": "YfoCr8g7Sc9L"
      },
      "execution_count": null,
      "outputs": []
    },
    {
      "cell_type": "markdown",
      "source": [
        "### (1) Use a for loop to access each student one at a time\n",
        "\n",
        "📌 You can loop over the list that you teacher provided you by using a for loop.\n",
        "\n",
        "📌 Unpack the tuples containing the student name and points, then use the *student_grade* function you defined earlier to convert the points into a letter grade.\n",
        "\n",
        "📌 Print the message that the *student_grade* function returns\n",
        "\n"
      ],
      "metadata": {
        "id": "CIT1w-p_Sc9L"
      }
    },
    {
      "cell_type": "code",
      "source": [
        "#Write a for loop to access each student one at a time and unpack the tuple\n",
        "for name, points in student_list:\n",
        "  grade = student_grade(name, points)\n",
        "  #print the message returned by student_grade\n",
        "  print(grade)\n"
      ],
      "metadata": {
        "colab": {
          "base_uri": "https://localhost:8080/"
        },
        "outputId": "656552d5-5e15-47ba-d7e4-5028cf7d2d4f",
        "id": "PGT1NQs3Sc9L"
      },
      "execution_count": null,
      "outputs": [
        {
          "output_type": "stream",
          "name": "stdout",
          "text": [
            "Zach:B\n",
            "Sophie:A\n",
            "Fred:F\n",
            "Belina was missing during the exam.\n",
            "Markus was missing during the exam.\n"
          ]
        }
      ]
    },
    {
      "cell_type": "markdown",
      "source": [
        "### (2) Store the names and the grades in a text file\n",
        "\n",
        "As a last step, you need to save the grades inside a file. \n",
        "\n",
        "📌 Create a file *grades.txt* by opening it in the write mode.\n",
        "\n",
        "📌 Instead of printing the grade, use the .write() method and the for loop you just created to write the grades into the file.\n",
        "\n",
        "💣 Make sure to add the escape statement '\\n' to each line you write to the file to indicate that each student should be written in it's own line.\n",
        "\n"
      ],
      "metadata": {
        "id": "pePCS6XXSc9M"
      }
    },
    {
      "cell_type": "code",
      "source": [
        "#Create the grades.txt file\n",
        "grades_file = open(\"grades.txt\", 'w')\n",
        "\n",
        "#Use the for loop to write the name and grade of each student in the file \n",
        "for name, points in student_list:\n",
        "  grade = student_grade(name, points)\n",
        "  #Write the message returned by student_grade into the file\n",
        "  grades_file.write(grade + '\\n')"
      ],
      "metadata": {
        "id": "khxMESoCSc9M"
      },
      "execution_count": null,
      "outputs": []
    },
    {
      "cell_type": "markdown",
      "source": [
        "##Well done! \n",
        "You have completed all the tasks that your teacher had assigned you. Don't forget to close the grades.txt file."
      ],
      "metadata": {
        "id": "hAxEO0plSc9M"
      }
    },
    {
      "cell_type": "code",
      "source": [
        "#Close the file\n",
        "grades_file.close()"
      ],
      "metadata": {
        "id": "EsINUGPOSc9M"
      },
      "execution_count": null,
      "outputs": []
    }
  ]
}