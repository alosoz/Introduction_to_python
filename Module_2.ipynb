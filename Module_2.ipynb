{
  "nbformat": 4,
  "nbformat_minor": 0,
  "metadata": {
    "colab": {
      "provenance": [],
      "include_colab_link": true
    },
    "kernelspec": {
      "name": "python3",
      "display_name": "Python 3"
    },
    "language_info": {
      "name": "python"
    }
  },
  "cells": [
    {
      "cell_type": "markdown",
      "metadata": {
        "id": "view-in-github",
        "colab_type": "text"
      },
      "source": [
        "<a href=\"https://colab.research.google.com/github/alosoz/Introduction_to_python/blob/main/Module_2.ipynb\" target=\"_parent\"><img src=\"https://colab.research.google.com/assets/colab-badge.svg\" alt=\"Open In Colab\"/></a>"
      ]
    },
    {
      "cell_type": "markdown",
      "source": [
        "**if_else_statements**"
      ],
      "metadata": {
        "id": "uRrQSfeuLwIF"
      }
    },
    {
      "cell_type": "code",
      "execution_count": null,
      "metadata": {
        "colab": {
          "base_uri": "https://localhost:8080/"
        },
        "id": "aD_OzFaB5vmY",
        "outputId": "9db718db-a281-42af-cef0-425b76f2d21a"
      },
      "outputs": [
        {
          "output_type": "stream",
          "name": "stdout",
          "text": [
            "Good 🟩\n"
          ]
        }
      ],
      "source": [
        "celsius = 25\n",
        "if celsius > 20:\n",
        "  print('Good 🟩')"
      ]
    },
    {
      "cell_type": "code",
      "source": [
        "celsius = 18\n",
        "if celsius > 20:\n",
        "  print('Good 🟩')"
      ],
      "metadata": {
        "id": "74-_wZlL51f1"
      },
      "execution_count": null,
      "outputs": []
    },
    {
      "cell_type": "code",
      "source": [
        "celsius = 18\n",
        "if celsius > 20:\n",
        "  print('Good 🟩')\n",
        "else:\n",
        "  print('Cold ❄️')"
      ],
      "metadata": {
        "colab": {
          "base_uri": "https://localhost:8080/"
        },
        "id": "-SSIh0iv53K4",
        "outputId": "2c9a0fc8-cd9d-4c8f-8d99-76964b14a310"
      },
      "execution_count": null,
      "outputs": [
        {
          "output_type": "stream",
          "name": "stdout",
          "text": [
            "Cold ❄️\n"
          ]
        }
      ]
    },
    {
      "cell_type": "code",
      "source": [
        "celsius = 32\n",
        "if celsius > 30:\n",
        "  print('Hot 🔥')\n",
        "if celsius > 20:\n",
        "  print('Good 🟩')\n",
        "else: \n",
        "  print('Cold ❄️')"
      ],
      "metadata": {
        "colab": {
          "base_uri": "https://localhost:8080/"
        },
        "id": "Wm_vcxQW544b",
        "outputId": "061da595-5153-41cf-8ff4-3e71a3e004af"
      },
      "execution_count": null,
      "outputs": [
        {
          "output_type": "stream",
          "name": "stdout",
          "text": [
            "Hot 🔥\n",
            "Good 🟩\n"
          ]
        }
      ]
    },
    {
      "cell_type": "code",
      "source": [
        "celsius = 32\n",
        "if celsius > 30:\n",
        "  print('Hot 🔥')\n",
        "elif celsius > 20:\n",
        "  print('Good 🟩')\n",
        "else: \n",
        "  print('Cold ❄️')"
      ],
      "metadata": {
        "colab": {
          "base_uri": "https://localhost:8080/"
        },
        "id": "qE-u5u2W58p5",
        "outputId": "76a95715-80e9-4602-e00b-0f6760bed140"
      },
      "execution_count": null,
      "outputs": [
        {
          "output_type": "stream",
          "name": "stdout",
          "text": [
            "Hot 🔥\n"
          ]
        }
      ]
    },
    {
      "cell_type": "code",
      "source": [
        "celsius = 32\n",
        " \n",
        "if celsius > 30:\n",
        "  print('Hot 🔥')\n",
        "elif 30 >= celsius > 20:\n",
        "  print('Good 🟩')\n",
        "elif -273 < celsius <= 20:\n",
        "  print('Cold ❄️')\n",
        "else:\n",
        "  print('Something went wrong!')"
      ],
      "metadata": {
        "colab": {
          "base_uri": "https://localhost:8080/"
        },
        "id": "t3IOFpmW6FP1",
        "outputId": "ff5e76a1-da35-4281-dd13-34220d15137c"
      },
      "execution_count": null,
      "outputs": [
        {
          "output_type": "stream",
          "name": "stdout",
          "text": [
            "Hot 🔥\n"
          ]
        }
      ]
    },
    {
      "cell_type": "code",
      "source": [
        "drivers_licence = True\n",
        "age = 17\n",
        " \n",
        "if age > 17:\n",
        "    if drivers_licence:\n",
        "        print('You can drive car')\n",
        "    else:\n",
        "        print('You need to go to a drivers licence course')\n",
        "else:\n",
        "    print('You need to get older')"
      ],
      "metadata": {
        "colab": {
          "base_uri": "https://localhost:8080/"
        },
        "id": "UEiL47E16HOp",
        "outputId": "02b3ce5f-ffa3-4210-8e18-0e34ec732cb6"
      },
      "execution_count": null,
      "outputs": [
        {
          "output_type": "stream",
          "name": "stdout",
          "text": [
            "You need to get older\n"
          ]
        }
      ]
    },
    {
      "cell_type": "markdown",
      "source": [
        "**for_loops**"
      ],
      "metadata": {
        "id": "UhhLvmLBLQq4"
      }
    },
    {
      "cell_type": "code",
      "source": [],
      "metadata": {
        "id": "OkuyXAaaLRLe"
      },
      "execution_count": null,
      "outputs": []
    },
    {
      "cell_type": "code",
      "execution_count": null,
      "metadata": {
        "id": "ygG2PdH06l2d"
      },
      "outputs": [],
      "source": [
        "print('E')\n",
        "print('y')\n",
        "print('j')\n",
        "print('a')\n",
        "print('f')\n",
        "print('j')\n",
        "print('a')\n",
        "print('l')\n",
        "print('l')\n",
        "print('a')\n",
        "print('j')\n",
        "print('ö')\n",
        "print('k')\n",
        "print('u')\n",
        "print('l')\n",
        "print('l')"
      ]
    },
    {
      "cell_type": "code",
      "source": [
        "volcano_name = 'Eyjafjallajökull'\n",
        " \n",
        "for i in volcano_name:\n",
        "  print(i)\n",
        "print('Loop is completed')"
      ],
      "metadata": {
        "id": "rSmK86Uz6q-5"
      },
      "execution_count": null,
      "outputs": []
    },
    {
      "cell_type": "code",
      "source": [
        "numbers = [1, 2, 3, 4, 5, 6, 7, 8, 9,10]\n",
        "for i in numbers:\n",
        "  print(i)\n",
        " \n",
        "print('Loop is completed')"
      ],
      "metadata": {
        "id": "DvoG_vBU6zkv"
      },
      "execution_count": null,
      "outputs": []
    },
    {
      "cell_type": "code",
      "source": [
        "for i in range(5,21):\n",
        "  print(i)\n",
        "print('Loop is completed')"
      ],
      "metadata": {
        "id": "dSBGHaCt61uy"
      },
      "execution_count": null,
      "outputs": []
    },
    {
      "cell_type": "code",
      "source": [
        "for i in range(1,101):\n",
        "  if i % 5 == 0:\n",
        "    print(i)\n",
        " \n",
        "print('Loop has been completed')"
      ],
      "metadata": {
        "id": "lBRpZD3g636i"
      },
      "execution_count": null,
      "outputs": []
    },
    {
      "cell_type": "markdown",
      "source": [
        "**while_loops**"
      ],
      "metadata": {
        "id": "awubdHqVLSf1"
      }
    },
    {
      "cell_type": "code",
      "execution_count": null,
      "metadata": {
        "colab": {
          "base_uri": "https://localhost:8080/"
        },
        "id": "dp_fZfIh7VlF",
        "outputId": "a5261f60-22e5-4e53-83b3-0227ee361b43"
      },
      "outputs": [
        {
          "output_type": "stream",
          "name": "stdout",
          "text": [
            "Cold ❄️\n"
          ]
        }
      ],
      "source": [
        "celsius = 10\n",
        "\n",
        "if celsius > 30:\n",
        "  print('Hot 🔥')\n",
        "elif 30 >= celsius > 20:\n",
        "  print('Good 🟩')\n",
        "elif -273 < celsius <= 20:\n",
        "  print('Cold ❄️')\n",
        "else:\n",
        "  print('Something went wrong!')"
      ]
    },
    {
      "cell_type": "code",
      "source": [
        "celcius = 10\n",
        " \n",
        "while celcius < 50:\n",
        " \n",
        "  if celcius > 30:\n",
        "    print('Hot 🔥')\n",
        "  elif 30 >= celcius > 20:\n",
        "    print('Good 🟩')\n",
        "  elif -273 < celcius <= 20:              \n",
        "    print('Cold ❄️')\n",
        "  else:\n",
        "    print('Something went wrong!')"
      ],
      "metadata": {
        "id": "5f_D5ZJ77ZXI"
      },
      "execution_count": null,
      "outputs": []
    },
    {
      "cell_type": "code",
      "source": [
        "celcius = 10\n",
        " \n",
        "while celcius < 50:\n",
        " \n",
        "  if celcius > 30:\n",
        "    print('Hot 🔥')\n",
        "  elif 30 >= celcius > 20:\n",
        "    print('Good 🟩')\n",
        "  elif -273 < celcius <= 20:              \n",
        "    print('Cold ❄️')\n",
        "  else:\n",
        "    print('Something went wrong!')\n",
        "  celcius += 5"
      ],
      "metadata": {
        "colab": {
          "base_uri": "https://localhost:8080/"
        },
        "id": "vY_wJsZk7v_4",
        "outputId": "1e6112cf-feea-4eb9-9b4b-0157dad0b59e"
      },
      "execution_count": null,
      "outputs": [
        {
          "output_type": "stream",
          "name": "stdout",
          "text": [
            "Cold ❄️\n",
            "Cold ❄️\n",
            "Cold ❄️\n",
            "Good 🟩\n",
            "Good 🟩\n",
            "Hot 🔥\n",
            "Hot 🔥\n",
            "Hot 🔥\n"
          ]
        }
      ]
    },
    {
      "cell_type": "code",
      "source": [
        "celcius = 10\n",
        " \n",
        "while celcius < 50:\n",
        " \n",
        "  if celcius > 30:\n",
        "    print('Hot 🔥')\n",
        "  elif 30 >= celcius > 20:\n",
        "    print('Good 🟩')\n",
        "  elif -273 < celcius <= 20:              \n",
        "    print('Cold ❄️')\n",
        "  else:\n",
        "    print('Something went wrong!')\n",
        "  print('The current temperature is',celcius)\n",
        "  celcius += 5"
      ],
      "metadata": {
        "colab": {
          "base_uri": "https://localhost:8080/"
        },
        "id": "J645vXrg71Nr",
        "outputId": "39c3cd20-248b-4926-fecc-806da13a4680"
      },
      "execution_count": null,
      "outputs": [
        {
          "output_type": "stream",
          "name": "stdout",
          "text": [
            "Cold ❄️\n",
            "The current temperature is 10\n",
            "Cold ❄️\n",
            "The current temperature is 15\n",
            "Cold ❄️\n",
            "The current temperature is 20\n",
            "Good 🟩\n",
            "The current temperature is 25\n",
            "Good 🟩\n",
            "The current temperature is 30\n",
            "Hot 🔥\n",
            "The current temperature is 35\n",
            "Hot 🔥\n",
            "The current temperature is 40\n",
            "Hot 🔥\n",
            "The current temperature is 45\n"
          ]
        }
      ]
    },
    {
      "cell_type": "code",
      "source": [
        "import time\n",
        "celcius = 10\n",
        " \n",
        "while celcius < 50:\n",
        " \n",
        "  if celcius > 30:\n",
        "    print('Hot 🔥')\n",
        "  elif 30 >= celcius > 20:\n",
        "    print('Good 🟩')\n",
        "  elif -273 < celcius <= 20:              \n",
        "    print('Cold ❄️')\n",
        "  else:\n",
        "    print('Something went wrong!')\n",
        "  print('The current temperature is',celcius)\n",
        "  celcius += 5\n",
        "  time.sleep(1)"
      ],
      "metadata": {
        "colab": {
          "base_uri": "https://localhost:8080/"
        },
        "id": "K-qrD5Zh76aM",
        "outputId": "a554f4bd-2d54-4eca-992d-1f35f9064bad"
      },
      "execution_count": null,
      "outputs": [
        {
          "output_type": "stream",
          "name": "stdout",
          "text": [
            "Cold ❄️\n",
            "The current temperature is 10\n",
            "Cold ❄️\n",
            "The current temperature is 15\n",
            "Cold ❄️\n",
            "The current temperature is 20\n",
            "Good 🟩\n",
            "The current temperature is 25\n",
            "Good 🟩\n",
            "The current temperature is 30\n",
            "Hot 🔥\n",
            "The current temperature is 35\n",
            "Hot 🔥\n",
            "The current temperature is 40\n",
            "Hot 🔥\n",
            "The current temperature is 45\n"
          ]
        }
      ]
    },
    {
      "cell_type": "markdown",
      "source": [
        "**break_infinite_loops**"
      ],
      "metadata": {
        "id": "fKJs7K1ZLalD"
      }
    },
    {
      "cell_type": "code",
      "execution_count": null,
      "metadata": {
        "id": "51TPlLCq8Vui"
      },
      "outputs": [],
      "source": [
        "while True:\n",
        "  print('I love you!')"
      ]
    },
    {
      "cell_type": "code",
      "source": [
        "import time\n",
        "counter = 0\n",
        " \n",
        "while counter >= 0:\n",
        "  counter += 1\n",
        " \n",
        "  print(counter)\n",
        "  time.sleep(1)"
      ],
      "metadata": {
        "colab": {
          "base_uri": "https://localhost:8080/",
          "height": 352
        },
        "id": "zskYuF1v8Z5P",
        "outputId": "9bbb2d69-c4c8-41a7-f704-99aa9ea2523c"
      },
      "execution_count": null,
      "outputs": [
        {
          "output_type": "stream",
          "name": "stdout",
          "text": [
            "2\n",
            "3\n",
            "4\n",
            "5\n",
            "6\n",
            "7\n",
            "8\n",
            "9\n"
          ]
        },
        {
          "output_type": "error",
          "ename": "KeyboardInterrupt",
          "evalue": "ignored",
          "traceback": [
            "\u001b[0;31m---------------------------------------------------------------------------\u001b[0m",
            "\u001b[0;31mKeyboardInterrupt\u001b[0m                         Traceback (most recent call last)",
            "\u001b[0;32m<ipython-input-2-4067f7f64558>\u001b[0m in \u001b[0;36m<module>\u001b[0;34m()\u001b[0m\n\u001b[1;32m      6\u001b[0m \u001b[0;34m\u001b[0m\u001b[0m\n\u001b[1;32m      7\u001b[0m   \u001b[0mprint\u001b[0m\u001b[0;34m(\u001b[0m\u001b[0mcounter\u001b[0m\u001b[0;34m)\u001b[0m\u001b[0;34m\u001b[0m\u001b[0;34m\u001b[0m\u001b[0m\n\u001b[0;32m----> 8\u001b[0;31m   \u001b[0mtime\u001b[0m\u001b[0;34m.\u001b[0m\u001b[0msleep\u001b[0m\u001b[0;34m(\u001b[0m\u001b[0;36m1\u001b[0m\u001b[0;34m)\u001b[0m\u001b[0;34m\u001b[0m\u001b[0;34m\u001b[0m\u001b[0m\n\u001b[0m",
            "\u001b[0;31mKeyboardInterrupt\u001b[0m: "
          ]
        }
      ]
    },
    {
      "cell_type": "code",
      "source": [
        "import random\n",
        "while True:\n",
        " \n",
        "    random_number = random.randrange(1000)\n",
        "    print(random_number)\n",
        " \n",
        "    if random_number == 777:\n",
        "        print('Found!')\n",
        "        break"
      ],
      "metadata": {
        "id": "eSfwEb6Y8bjC"
      },
      "execution_count": null,
      "outputs": []
    },
    {
      "cell_type": "code",
      "source": [
        "names = ['Max', 'Felix', 'Deniz', 'Selin', 'Lucas', 26, 'Sarah']\n",
        " \n",
        "for name in names:\n",
        " \n",
        "    if type(name) != str:\n",
        "        print('Found', name)\n",
        "        break\n",
        " \n",
        "    else:\n",
        "        print(name, 'is a string!')"
      ],
      "metadata": {
        "colab": {
          "base_uri": "https://localhost:8080/"
        },
        "id": "eO9R3j1y8eXU",
        "outputId": "a36710d6-35d6-4c93-bc64-5d3cf3004063"
      },
      "execution_count": null,
      "outputs": [
        {
          "output_type": "stream",
          "name": "stdout",
          "text": [
            "Max is a string!\n",
            "Felix is a string!\n",
            "Deniz is a string!\n",
            "Selin is a string!\n",
            "Lucas is a string!\n",
            "Found 26\n"
          ]
        }
      ]
    },
    {
      "cell_type": "markdown",
      "source": [
        "#**Practical exercise 2**"
      ],
      "metadata": {
        "id": "dJ8acdKGLkvt"
      }
    },
    {
      "cell_type": "markdown",
      "source": [
        "# Practical exercise 2:  You are a game developer :)\n",
        "\n",
        "In this practical exercise you are a game developer. You will program your first game – Rock, Paper, Scissors.\n",
        "\n",
        "If you are not familiar with the game, you can read about it here: https://en.wikipedia.org/wiki/Rock_paper_scissors.\n",
        "\n",
        "You will program the game step by step. Please read the instructions carefully. There are hints and important explanations that will help you with this exercise."
      ],
      "metadata": {
        "id": "tBDsFMQwBs6Z"
      }
    },
    {
      "cell_type": "markdown",
      "source": [
        "##Warm up\n",
        "\n",
        "Each player can choose between the three actions \"rock\", \"paper\" and \"scissors\". First, you need to create a list that contains all possible actions. "
      ],
      "metadata": {
        "id": "ymULFKyosM3d"
      }
    },
    {
      "cell_type": "code",
      "source": [
        "#Please create a list containing the three actions of the game.\n",
        "\n",
        "game = ['rock', 'paper', 'scissors']\n"
      ],
      "metadata": {
        "id": "0w6HGZBvsvru"
      },
      "execution_count": null,
      "outputs": []
    },
    {
      "cell_type": "markdown",
      "source": [
        "# Choose an action\n",
        "\n",
        "Now you have the list with the actions ready. The next step is to let Python randomly choose an action from this list. Each player has to make a choice, so Python has to make a choice for player 1 and another one for player 2.\n",
        "\n",
        "📌The built-in module \"random\" can help you with this. As you might remember from previous lessons you can use the .randint() method to generate random numbers.\n",
        "\n",
        "📌📌There is another method in the random module called .choice(). It takes a list as input and selects an item randomly from that list.\n",
        "\n"
      ],
      "metadata": {
        "id": "cnWVzlo1vBy8"
      }
    },
    {
      "cell_type": "code",
      "source": [
        "#Import the random library\n",
        "import random\n",
        "\n",
        "#Select a random action for each player\n",
        "player_1 = random.choice(game)\n",
        "player_2 = random.choice(game)\n",
        "\n",
        "#Use the print function to print the players choices\n",
        "print('player 1 :' + player_1)\n",
        "print('player_2 :' + player_2)"
      ],
      "metadata": {
        "id": "bdlEyJC2xPOw",
        "colab": {
          "base_uri": "https://localhost:8080/"
        },
        "outputId": "929af6b1-ae64-40c0-f4e6-0698cf81fdb8"
      },
      "execution_count": null,
      "outputs": [
        {
          "output_type": "stream",
          "name": "stdout",
          "text": [
            "player 1 :rock\n",
            "player_2 :scissors\n"
          ]
        }
      ]
    },
    {
      "cell_type": "markdown",
      "source": [
        "# Determine the winner\n",
        "\n",
        "So, who won? To determine the winner, you first have to specify all possible outcomes of the game. Then you can use conditional statements to specify which outcome will lead to a win for player 1 or player 2, or a tie.\n",
        "\n",
        "First, let's start with the outcome that both users chose the same action: a tie!\n",
        "In case of a tie, the game should print the message \"Tie! Both players chose the same action.\" to the screen.\n",
        "\n",
        "📌Use conditional statements to check whether the players actions are equal to each other and *if* this condition is true the message should be printed."
      ],
      "metadata": {
        "id": "Yr7uQq1J2k6p"
      }
    },
    {
      "cell_type": "code",
      "source": [
        "#1 - Tie Condition\n",
        "#Please write an if statement to check if the players chose the same action\n",
        "if player_1 == player_2:\n",
        "  print('Tie! Both players chose the same action.')\n"
      ],
      "metadata": {
        "id": "8S1F2r8NtEoN"
      },
      "execution_count": null,
      "outputs": []
    },
    {
      "cell_type": "markdown",
      "source": [
        "Now, let's focus on the remaining outcomes. We have three different actions: rock, paper and scissors.\n",
        "\n",
        "This is a list of all the possible combinations (without those that result in a tie):\n",
        "\n",
        "1.   (paper, rock)\n",
        "2.   (paper, scissors)\n",
        "3.   (scissors, rock)\n",
        "4.   (scissors, paper)\n",
        "5.   (rock, paper)\n",
        "6.   (rock, scissors)\n",
        "\n",
        "You need to check all these conditions in order to determine the winner.\n",
        "\n",
        "📌You can use the \"and\" operator to combine two actions in one conditional statement.\n",
        "\n",
        "📌📌Another approach is using nested if statements to check whether the action of player 2 beats the action of player 1.\n",
        "\n",
        "🧨💣In the cell, first copy the code you wrote for \"Tie\" conditions. Then continue to add the other outcomes using \"elif\".\n",
        "\n",
        "\n"
      ],
      "metadata": {
        "id": "6aKSif7rItma"
      }
    },
    {
      "cell_type": "code",
      "source": [
        "#Copy your code of the tie-conditions here\n",
        "#1 - Tie Condition\n",
        "if player_1 == player_2:\n",
        "  print('Tie! Both players chose the same action.')\n",
        "\n",
        "#2-Winning Conditions\n",
        "#Please add the conditional statements for the remaining combinations \n",
        "elif player_1 == 'rock' and player_2 == 'scissors':\n",
        "  print('player_1 won')\n",
        "elif player_1 == 'rock' and player_2 == 'paper':\n",
        "  print('player_2 won')\n",
        "elif player_1 == 'scissors' and player_2 == 'rock':\n",
        "  print('player_2 won')\n",
        "elif player_1 == 'scissors' and player_2 == 'paper':\n",
        "  print('player_1 won')\n",
        "elif player_1 == 'paper' and player_2 == 'rock':\n",
        "  print('player_1 won')\n",
        "elif player_1 == 'paper' and player_2 == 'scissors':\n",
        "  print('player_2 won')\n",
        "\n"
      ],
      "metadata": {
        "id": "Ix9sskr5z6Td"
      },
      "execution_count": null,
      "outputs": []
    },
    {
      "cell_type": "markdown",
      "source": [
        "# Best of 3 or 5 or single round ? :)\n",
        "\n",
        "Now that you have your game set, let's also ask the users how many rounds they want to play.\n",
        "\n",
        "📌 You can use the input function for this.\n",
        "\n",
        "And because there are multiple rounds, you need to keep track of the score. For this, you need to create a variable for each player that is 0 in the beginning.\n"
      ],
      "metadata": {
        "id": "7Ixf-AHqIhcV"
      }
    },
    {
      "cell_type": "code",
      "source": [
        "#Please ask the user how many rounds they want to play\n",
        "round = input('How many round do you want to play?')\n",
        "\n",
        "#Scores of players\n",
        "player_1_score = 0\n",
        "player_2_score = 0\n"
      ],
      "metadata": {
        "id": "_kbrpXXkBU_d"
      },
      "execution_count": null,
      "outputs": []
    },
    {
      "cell_type": "markdown",
      "source": [
        "# Use a for loop to specify the number of rounds \n",
        "The user specified how many rounds he or she wants to play. \n",
        "\n",
        "One way to use this information is to put the game inside of a for loop.\n",
        "\n",
        "📌 You can use a for loop and the range() function to repeat the loop for a specified number of times.\n",
        "\n",
        "📌📌 Don't forget to convert the user input to the data type integer. You can use the int() function for this.\n",
        "\n",
        "📌📌📌 Don't forget to increment or add 1 to the score of the players that win, and print the current score after each round. You can use the assignment operator +=1 for this. "
      ],
      "metadata": {
        "id": "nzIGT6s_CWvP"
      }
    },
    {
      "cell_type": "code",
      "source": [
        "#Collect all the components of your program to run it in a for loop\n",
        "#Import the random library\n",
        "import random\n",
        "\n",
        "#Add the code to create a list containing the three actions of the game.\n",
        "game = ['rock', 'paper', 'scissors']\n",
        "\n",
        "#Add the code to set the scores of players to 0\n",
        "player_1_score = 0\n",
        "player_2_score = 0\n",
        "\n",
        "#Add the code to ask the user how many rounds they want to play\n",
        "round = int(input('How many round do you want to play?'))\n",
        "\n",
        "#Write a for loop and put the game inside\n",
        "for i in range(0,round):\n",
        "\n",
        "  #Add the code to select a random action for each player\n",
        "  player_1 = random.choice(game)\n",
        "  player_2 = random.choice(game)\n",
        "\n",
        "  #Add the code to print the players choices\n",
        "  print('player 1 :' + player_1)\n",
        "  print('player_2 :' + player_2)\n",
        "\n",
        "  #Add the tie condition\n",
        "  if player_1 == player_2:\n",
        "    print('Tie! Both players chose the same action.')\n",
        "\n",
        "  #Add the remaining condition\n",
        "  elif player_1 == 'rock' and player_2 == 'scissors':\n",
        "    print('player_1 won')\n",
        "    player_1_score += 1\n",
        "  elif player_1 == 'rock' and player_2 == 'paper':\n",
        "    print('player_2 won')\n",
        "    player_2_score += 1\n",
        "  elif player_1 == 'scissors' and player_2 == 'rock':\n",
        "    print('player_2 won')\n",
        "    player_2_score += 1\n",
        "  elif player_1 == 'scissors' and player_2 == 'paper':\n",
        "    print('player_1 won')\n",
        "    player_1_score += 1\n",
        "  elif player_1 == 'paper' and player_2 == 'rock':\n",
        "    print('player_1 won')\n",
        "    player_1_score += 1\n",
        "  elif player_1 == 'paper' and player_2 == 'scissors':\n",
        "    print('player_2 won')\n",
        "    player_2_score += 1\n",
        "\n",
        "  #print the score\n",
        "  print('player_1_score is :' + str(player_1_score))\n",
        "  print('player_2_score is :' + str(player_2_score))\n",
        "\n"
      ],
      "metadata": {
        "id": "Wy7CLLRNCV3X",
        "colab": {
          "base_uri": "https://localhost:8080/"
        },
        "outputId": "ed7f036d-e3c4-45a1-a210-fb8c59bb1e67"
      },
      "execution_count": null,
      "outputs": [
        {
          "output_type": "stream",
          "name": "stdout",
          "text": [
            "How many round do you want to play?2\n",
            "player 1 :paper\n",
            "player_2 :rock\n",
            "player_1 won\n",
            "player_1_score is :1\n",
            "player_2_score is :0\n",
            "player 1 :rock\n",
            "player_2 :rock\n",
            "Tie! Both players chose the same action.\n",
            "player_1_score is :1\n",
            "player_2_score is :0\n"
          ]
        }
      ]
    },
    {
      "cell_type": "markdown",
      "source": [
        "# Use a while loop to specify the number of rounds - Part 1\n",
        "\n",
        "In this module we also learned about while loops. Another way to play the game over and over again is using a while loop. \n",
        "\n",
        "This time, let's put the game inside a while loop.\n",
        "\n",
        "📌 You can directly use the value *True* to specify that the while loop should be executed. \n",
        "\n",
        "💣 By the way: Another very common name for True/False values is \"**Boolean values**\" or \"**Bools**\" in short.\n",
        "\n",
        "🧨🧨 Caution! Since we run the game in an while loop, you have to stop the game manually. Otherwise it will run infinitely.\n"
      ],
      "metadata": {
        "id": "QQIXQsmRwGqB"
      }
    },
    {
      "cell_type": "code",
      "source": [
        "#Collect all the components of your program to run it in a while loop\n",
        "#Import the random library\n",
        "import random\n",
        "\n",
        "#Add the code to create a list containing the three actions of the game.\n",
        "game = ['rock', 'paper', 'scissors']\n",
        "\n",
        "#Add the code to set the scores of players to 0\n",
        "player_1_score = 0\n",
        "player_2_score = 0\n",
        "\n",
        "#Write a while loop and put the game inside\n",
        "while True:\n",
        "\n",
        "  #Add the code to select a random action for each player\n",
        "  player_1 = random.choice(game)\n",
        "  player_2 = random.choice(game)\n",
        "\n",
        "  #Add the code to print the players choices\n",
        "  print('player 1 :' + player_1)\n",
        "  print('player_2 :' + player_2)\n",
        "\n",
        "  #Add the tie condition\n",
        "  if player_1 == player_2:\n",
        "    print('Tie! Both players chose the same action.')\n",
        "\n",
        "  #Add the remaining condition\n",
        "  elif player_1 == 'rock' and player_2 == 'scissors':\n",
        "    print('player_1 won')\n",
        "    player_1_score += 1\n",
        "  elif player_1 == 'rock' and player_2 == 'paper':\n",
        "    print('player_2 won')\n",
        "    player_2_score += 1\n",
        "  elif player_1 == 'scissors' and player_2 == 'rock':\n",
        "    print('player_2 won')\n",
        "    player_2_score += 1\n",
        "  elif player_1 == 'scissors' and player_2 == 'paper':\n",
        "    print('player_1 won')\n",
        "    player_1_score += 1\n",
        "  elif player_1 == 'paper' and player_2 == 'rock':\n",
        "    print('player_1 won')\n",
        "    player_1_score += 1\n",
        "  elif player_1 == 'paper' and player_2 == 'scissors':\n",
        "    print('player_2 won')\n",
        "    player_2_score += 1\n",
        "\n",
        "  #print the score\n",
        "  print('player_1_score is :' + str(player_1_score))\n",
        "  print('player_2_score is :' + str(player_2_score))\n",
        "\n",
        "  \n"
      ],
      "metadata": {
        "id": "dvTr4HR4wF4n"
      },
      "execution_count": null,
      "outputs": []
    },
    {
      "cell_type": "markdown",
      "source": [
        "# Use a while loop to specify the number of rounds - Part 2\n",
        "\n",
        "Now the game runs infinitely and the user can end it manually. But there is a more efficient way to do this: Let's ask the user again how many rounds they want to play, just as you did for the game inside the for loop.\n",
        "\n",
        "To prevent an infinite loop, you need to add a round_counter that is 0 at the beginning. In each round, this counter needs to increase by 1. \n",
        "\n",
        "At the end of your while loop, you need to add an \"if\" condition to check whether the round_counter is equal to the number of rounds that we got from user as an input. If this is the case, we need to use \"**break**\" to end the game.\n",
        "\n",
        "Once we end the game, it would be nice to see a message that prints the winner to the screen. In case of a tie, it should print a message that the game ended in a tie.\n",
        "\n",
        "📌 You can use \"if\" and \"elif\" statements to determine the winner at the end."
      ],
      "metadata": {
        "id": "YKVAuxIsjaE6"
      }
    },
    {
      "cell_type": "code",
      "source": [
        "#Collect all the components of your program to run it in a while loop\n",
        "#Import the random library\n",
        "import random\n",
        "\n",
        "#Add the code to create a list containing the three actions of the game.\n",
        "game = ['rock', 'paper', 'scissors']\n",
        "\n",
        "#Add the code to set the scores of players to 0\n",
        "player_1_score = 0\n",
        "player_2_score = 0\n",
        "\n",
        "#Add a round_counter that is 0 at the beginning\n",
        "round_count = 0\n",
        "\n",
        "#Add the code to ask the user how many rounds they want to play\n",
        "round = int(input('How many round do you want to play?'))\n",
        "\n",
        "#Write a while loop and put the game inside\n",
        "while True:\n",
        "\n",
        "  #increase round_counter by 1 and print it\n",
        "  round_count += 1\n",
        "\n",
        "  #Add the code to select a random action for each player\n",
        "  player_1 = random.choice(game)\n",
        "  player_2 = random.choice(game)\n",
        "\n",
        "  #Add the code to print the players choices\n",
        "  print('player 1 :' + player_1)\n",
        "  print('player_2 :' + player_2)\n",
        "\n",
        "  #Add the tie condition\n",
        "  if player_1 == player_2:\n",
        "    print('Tie! Both players chose the same action.')\n",
        "\n",
        "  #Add the remaining condition\n",
        "  elif player_1 == 'rock' and player_2 == 'scissors':\n",
        "    print('player_1 won')\n",
        "    player_1_score += 1\n",
        "  elif player_1 == 'rock' and player_2 == 'paper':\n",
        "    print('player_2 won')\n",
        "    player_2_score += 1\n",
        "  elif player_1 == 'scissors' and player_2 == 'rock':\n",
        "    print('player_2 won')\n",
        "    player_2_score += 1\n",
        "  elif player_1 == 'scissors' and player_2 == 'paper':\n",
        "    print('player_1 won')\n",
        "    player_1_score += 1\n",
        "  elif player_1 == 'paper' and player_2 == 'rock':\n",
        "    print('player_1 won')\n",
        "    player_1_score += 1\n",
        "  elif player_1 == 'paper' and player_2 == 'scissors':\n",
        "    print('player_2 won')\n",
        "    player_2_score += 1\n",
        "\n",
        "  #print the score\n",
        "  print('player_1_score is :' + str(player_1_score))\n",
        "  print('player_2_score is :' + str(player_2_score))\n",
        "\n",
        "  #stop the while loop if the round_counter equals the number of total rounds\n",
        "  if round_count == round:\n",
        "    break\n",
        "#Print the outcome of the game by using conditional statements\n",
        "if player_1_score > player_2_score:\n",
        "  print('You Lost!')\n",
        "elif player_1_score < player_2_score:\n",
        "  print('You Win!')\n",
        "elif player_1_score == player_2_score:\n",
        "  print('Draw!')\n",
        "else:\n",
        "  print('Somethibg went wrong!!!')\n",
        "  "
      ],
      "metadata": {
        "id": "emrjgYoXjYCR"
      },
      "execution_count": null,
      "outputs": []
    },
    {
      "cell_type": "markdown",
      "source": [
        "##**Practical exercise 2 solution**"
      ],
      "metadata": {
        "id": "yPAGzgoGNv5f"
      }
    },
    {
      "cell_type": "code",
      "source": [],
      "metadata": {
        "id": "jmf5oLgmN04K"
      },
      "execution_count": null,
      "outputs": []
    },
    {
      "cell_type": "markdown",
      "source": [
        "# Practical exercise 2:  You are a game developer :)\n",
        "\n",
        "In this practical exercise you are a game developer. You will program your first game – Rock, Paper, Scissors.\n",
        "\n",
        "If you are not familiar with the game, you can read about it here: https://en.wikipedia.org/wiki/Rock_paper_scissors.\n",
        "\n",
        "You will program the game step by step. Please read the instructions carefully. There are hints and important explanations that will help you with this exercise."
      ],
      "metadata": {
        "id": "SG6ykmjoN15Y"
      }
    },
    {
      "cell_type": "markdown",
      "source": [
        "##Warm up\n",
        "\n",
        "Each player can choose between the three actions \"rock\", \"paper\" and \"scissors\". First, you need to create a list that contains all possible actions. "
      ],
      "metadata": {
        "id": "MzUS1v-RN15Z"
      }
    },
    {
      "cell_type": "code",
      "source": [
        "#Please create a list containing the three actions of the game.\n",
        "action_list = ['rock', 'paper', 'scissors']"
      ],
      "metadata": {
        "id": "isyeQ0DJN15a"
      },
      "execution_count": null,
      "outputs": []
    },
    {
      "cell_type": "markdown",
      "source": [
        "# Choose an action\n",
        "\n",
        "Now you have the list with the actions ready. The next step is to let Python randomly choose an action from this list. Each player has to make a choice, so Python has to make a choice for player 1 and another one for player 2.\n",
        "\n",
        "📌The built-in module \"random\" can help you with this. As you might remember from previous lessons you can use the .randint() method to generate random numbers.\n",
        "\n",
        "📌📌There is another method in the random module called .choice(). It takes a list as input and selects an item randomly from that list.\n",
        "\n"
      ],
      "metadata": {
        "id": "80dCRAe7N15a"
      }
    },
    {
      "cell_type": "code",
      "source": [
        "#Import the random library\n",
        "import random\n",
        "\n",
        "#Select a random action for each player\n",
        "player1_choice = random.choice(action_list)\n",
        "player2_choice = action_list[random.randint(0,2)]\n",
        "\n",
        "#Use the print function to print the players choices\n",
        "print(\"Player1:\", player1_choice)\n",
        "print(\"Player2:\", player2_choice)"
      ],
      "metadata": {
        "id": "a7ymTepqN15b"
      },
      "execution_count": null,
      "outputs": []
    },
    {
      "cell_type": "markdown",
      "source": [
        "# Determine the winner\n",
        "\n",
        "So, who won? To determine the winner, you first have to specify all possible outcomes of the game. Then you can use conditional statements to specify which outcome will lead to a win for player 1 or player 2, or a tie.\n",
        "\n",
        "First, let's start with the outcome that both users chose the same action: a tie!\n",
        "In case of a tie, the game should print the message \"Tie! Both players chose the same action.\" to the screen.\n",
        "\n",
        "📌Use conditional statements to check whether the players actions are equal to each other and *if* this condition is true the message should be printed."
      ],
      "metadata": {
        "id": "ycuUGVfxN15b"
      }
    },
    {
      "cell_type": "code",
      "source": [
        "#1 - Tie Condition\n",
        "#Please write an if statement to check if the players chose the same action\n",
        "if player1_choice == player2_choice:\n",
        "  print(\"Tie! Both player chose same action.\")\n"
      ],
      "metadata": {
        "id": "yEvgzYVcN15c"
      },
      "execution_count": null,
      "outputs": []
    },
    {
      "cell_type": "markdown",
      "source": [
        "Now, let's focus on the remaining outcomes. We have three different actions: rock, paper and scissors.\n",
        "\n",
        "This is a list of all the possible combinations (without those that result in a tie):\n",
        "\n",
        "1.   (paper, rock)\n",
        "2.   (paper, scissors)\n",
        "3.   (scissors, rock)\n",
        "4.   (scissors, paper)\n",
        "5.   (rock, paper)\n",
        "6.   (rock, scissors)\n",
        "\n",
        "You need to check all these conditions in order to determine the winner.\n",
        "\n",
        "📌You can use the \"and\" operator to combine two actions in one conditional statement.\n",
        "\n",
        "📌📌Another approach is using nested if statements to check whether the action of player 2 beats the action of player 1.\n",
        "\n",
        "🧨💣In the cell, first copy the code you wrote for \"Tie\" conditions. Then continue to add the other outcomes using \"elif\".\n",
        "\n",
        "\n"
      ],
      "metadata": {
        "id": "NWQjPBL5N15c"
      }
    },
    {
      "cell_type": "code",
      "source": [
        "#Copy your code of the tie-conditions here\n",
        "#1 - Tie Condition\n",
        "if player1_choice == player2_choice:\n",
        "  print(\"Tie! Both player chose same action.\")\n",
        "\n",
        "#2-Winning Conditions\n",
        "#Please add the conditional statements for the remaining combinations \n",
        "\n",
        "#Method 1 elif statements using the and operator\n",
        "\n",
        "elif player1_choice == 'paper' and player2_choice == 'rock':\n",
        "  print(\"Winner is: Player 1\")\n",
        "\n",
        "elif player1_choice == 'paper' and player2_choice == 'scissors':\n",
        "  print(\"Winner is: Player 2\")\n",
        "\n",
        "elif player1_choice == 'scissors' and player2_choice == 'rock':\n",
        "  print(\"Winner is: Player 2\")\n",
        "\n",
        "elif player1_choice == 'scissors' and player2_choice == 'paper':\n",
        "  print(\"Winner is: Player 1\")\n",
        "\n",
        "elif player1_choice == 'rock' and player2_choice == 'paper':\n",
        "  print(\"Winner is: Player 2\")\n",
        "\n",
        "elif player1_choice == 'rock' and player2_choice == 'scissors':\n",
        "  print(\"Winner is: Player 1\")\n",
        "\n",
        "'''\n",
        "Option 2\n",
        "'''\n",
        "#1 - Tie Condition\n",
        "if player1_choice == player2_choice:\n",
        "  print(\"Tie! Both player choice same action.\")\n",
        "\n",
        "#Method 2 Nested if statements\n",
        "\n",
        "elif player1_choice == 'paper':\n",
        "  if player2_choice == 'rock':\n",
        "    print(\"Winner is: Player 1\")\n",
        "  else:\n",
        "    print(\"Winner is: Player 2\")\n",
        "\n",
        "elif player1_choice == 'rock':\n",
        "  if player2_choice == 'paper':\n",
        "    print(\"Winner is: Player 2\")\n",
        "  else:\n",
        "    print(\"Winner is: Player 1\")\n",
        "\n",
        "elif player1_choice == 'scissors':\n",
        "  if player2_choice == 'paper':\n",
        "    print(\"Winner is: Player 1\")\n",
        "  else:\n",
        "    print(\"Winner is: Player 2\")"
      ],
      "metadata": {
        "id": "qGxnVLrbN15d"
      },
      "execution_count": null,
      "outputs": []
    },
    {
      "cell_type": "markdown",
      "source": [
        "# Best of 3 or 5 or single round ? :)\n",
        "\n",
        "Now that you have your game set, let's also ask the users how many rounds they want to play.\n",
        "\n",
        "📌 You can use the input function for this.\n",
        "\n",
        "And because there are multiple rounds, you need to keep track of the score. For this, you need to create a variable for each player that is 0 in the beginning.\n"
      ],
      "metadata": {
        "id": "UmYExflFN15d"
      }
    },
    {
      "cell_type": "code",
      "source": [
        "#Please ask the user how many rounds they want to play\n",
        "total_round = input(\"How many rounds do you want to play? \")\n",
        "\n",
        "#Scores of players\n",
        "player1_score = 0\n",
        "player2_score = 0\n"
      ],
      "metadata": {
        "id": "LB0BFspTN15d"
      },
      "execution_count": null,
      "outputs": []
    },
    {
      "cell_type": "markdown",
      "source": [
        "# Use a for loop to specify the number of rounds \n",
        "The user specified how many rounds he or she wants to play. \n",
        "\n",
        "One way to use this information is to put the game inside of a for loop.\n",
        "\n",
        "📌 You can use a for loop and the range() function to repeat the loop for a specified number of times.\n",
        "\n",
        "📌📌 Don't forget to convert the user input to the data type integer. You can use the int() function for this.\n",
        "\n",
        "📌📌📌 Don't forget to increment or add 1 to the score of the players that win, and print the current score after each round. You can use the assignment operator +=1 for this. "
      ],
      "metadata": {
        "id": "yxQrk8UoN15e"
      }
    },
    {
      "cell_type": "code",
      "source": [
        "#Collect all the components of your program to run it in a for loop\n",
        "#Import the random library\n",
        "import random\n",
        "\n",
        "#Add the code to create a list containing the three actions of the game.\n",
        "action_list = ['rock', 'paper', 'scissors']\n",
        "\n",
        "#Add the code to set the scores of players to 0\n",
        "player1_score = 0\n",
        "player2_score = 0\n",
        "\n",
        "#Add the code to ask the user how many rounds they want to play\n",
        "total_round = input(\"How many rounds do you want to play? \")\n",
        "\n",
        "#Write a for loop and put the game inside\n",
        "for i in range(int(total_round)):\n",
        "\n",
        "  #Add the code to select a random action for each player\n",
        "  player1_choice = random.choice(action_list)\n",
        "  player2_choice = action_list[random.randint(0,2)]\n",
        "\n",
        "  #Add the code to print the players choices\n",
        "  print(\"Player1:\", player1_choice)\n",
        "  print(\"Player2:\", player2_choice)\n",
        "\n",
        "  #Add the tie condition\n",
        "  if player1_choice == player2_choice:\n",
        "    print(\"Tie! Both player chose same action.\")\n",
        "\n",
        "  #Add the remaining condition\n",
        "  elif player1_choice == 'paper':\n",
        "    if player2_choice == 'rock':\n",
        "      print(\"Winner is: Player 1\")\n",
        "      player1_score +=1\n",
        "    else:\n",
        "      print(\"Winner is: Player 2\")\n",
        "      player2_score +=1\n",
        "\n",
        "  elif player1_choice == 'rock':\n",
        "    if player2_choice == 'paper':\n",
        "      print(\"Winner is: Player 2\")\n",
        "      player2_score +=1\n",
        "    else:\n",
        "      print(\"Winner is: Player 1\")\n",
        "      player1_score +=1\n",
        "\n",
        "  elif player1_choice == 'scissors':\n",
        "    if player2_choice == 'paper':\n",
        "      print(\"Winner is: Player 1\")\n",
        "      player1_score +=1\n",
        "    else:\n",
        "      print(\"Winner is: Player 2\")\n",
        "      player2_score +=1\n",
        "\n",
        "  #print the score\n",
        "  print(\"Score:\", \"Player1 =\",player1_score, \"Player2 =\",player2_score)\n",
        "\n"
      ],
      "metadata": {
        "id": "NE8IlDSlN15e"
      },
      "execution_count": null,
      "outputs": []
    },
    {
      "cell_type": "markdown",
      "source": [
        "# Use a while loop to specify the number of rounds - Part 1\n",
        "\n",
        "In this module we also learned about while loops. Another way to play the game over and over again is using a while loop. \n",
        "\n",
        "This time, let's put the game inside a while loop.\n",
        "\n",
        "📌 You can directly use the value *True* to specify that the while loop should be executed. \n",
        "\n",
        "💣 By the way: Another very common name for True/False values is \"**Boolean values**\" or \"**Bools**\" in short.\n",
        "\n",
        "🧨🧨 Caution! Since we run the game in an while loop, you have to stop the game manually. Otherwise it will run infinitely.\n"
      ],
      "metadata": {
        "id": "acxrFiA9N15g"
      }
    },
    {
      "cell_type": "code",
      "source": [
        "#Collect all the components of your program to run it in a while loop\n",
        "#Import the random library\n",
        "import random\n",
        "\n",
        "#Add the code to create a list containing the three actions of the game.\n",
        "action_list = ['rock', 'paper', 'scissors']\n",
        "\n",
        "#Add the code to set the scores of players to 0\n",
        "player1_score = 0\n",
        "player2_score = 0\n",
        "\n",
        "#Write a while loop and put the game inside\n",
        "while True:\n",
        "\n",
        "  #Add the code to select a random action for each player\n",
        "  player1_choice = random.choice(action_list)\n",
        "  player2_choice = action_list[random.randint(0,2)]\n",
        "\n",
        "  #Add the code to print the players choices\n",
        "  print(\"Player1:\", player1_choice)\n",
        "  print(\"Player2:\", player2_choice)\n",
        "\n",
        "  #Add the tie condition\n",
        "  if player1_choice == player2_choice:\n",
        "    print(\"Tie! Both player chose same action.\")\n",
        "\n",
        "  #Add the remaining condition\n",
        "  elif player1_choice == 'paper':\n",
        "    if player2_choice == 'rock':\n",
        "      print(\"Winner is: Player 1\")\n",
        "      player1_score +=1\n",
        "    else:\n",
        "      print(\"Winner is: Player 2\")\n",
        "      player2_score +=1\n",
        "\n",
        "  elif player1_choice == 'rock':\n",
        "    if player2_choice == 'paper':\n",
        "      print(\"Winner is: Player 2\")\n",
        "      player2_score +=1\n",
        "    else:\n",
        "      print(\"Winner is: Player 1\")\n",
        "      player1_score +=1\n",
        "\n",
        "  elif player1_choice == 'scissors':\n",
        "    if player2_choice == 'paper':\n",
        "      print(\"Winner is: Player 1\")\n",
        "      player1_score +=1\n",
        "    else:\n",
        "      print(\"Winner is: Player 2\")\n",
        "      player2_score +=1\n",
        "\n",
        "  #print the score\n",
        "  print(\"Score:\", \"Player1 =\",player1_score, \"Player2 =\",player2_score)\n"
      ],
      "metadata": {
        "id": "kpaBNkfPN15h"
      },
      "execution_count": null,
      "outputs": []
    },
    {
      "cell_type": "markdown",
      "source": [
        "# Use a while loop to specify the number of rounds - Part 2\n",
        "\n",
        "Now the game runs infinitely and the user can end it manually. But there is a more efficient way to do this: Let's ask the user again how many rounds they want to play, just as you did for the game inside the for loop.\n",
        "\n",
        "To prevent an infinite loop, you need to add a round_counter that is 0 at the beginning. In each round, this counter needs to increase by 1. \n",
        "\n",
        "At the end of your while loop, you need to add an \"if\" condition to check whether the round_counter is equal to the number of rounds that we got from user as an input. If this is the case, we need to use \"**break**\" to end the game.\n",
        "\n",
        "Once we end the game, it would be nice to see a message that prints the winner to the screen. In case of a tie, it should print a message that the game ended in a tie.\n",
        "\n",
        "📌 You can use \"if\" and \"elif\" statements to determine the winner at the end."
      ],
      "metadata": {
        "id": "kiy7bQzzN15h"
      }
    },
    {
      "cell_type": "code",
      "source": [
        "#Collect all the components of your program to run it in a while loop\n",
        "#Import the random library\n",
        "import random\n",
        "\n",
        "#Add the code to create a list containing the three actions of the game.\n",
        "action_list = ['rock', 'paper', 'scissors']\n",
        "\n",
        "#Add the code to set the scores of players to 0\n",
        "player1_score = 0\n",
        "player2_score = 0\n",
        "#Add a round_counter that is 0 at the beginning\n",
        "round_counter = 0\n",
        "\n",
        "#Add the code to ask the user how many rounds they want to play\n",
        "total_round = input(\"How many rounds do you want to play? \")\n",
        "\n",
        "#Write a while loop and put the game inside\n",
        "while True:\n",
        "\n",
        "  #increase round_counter by 1 and print it\n",
        "  round_counter +=1\n",
        "  print(\"Round number:\", round_counter)\n",
        "\n",
        "  #Add the code to select a random action for each player\n",
        "  player1_choice = random.choice(action_list)\n",
        "  player2_choice = action_list[random.randint(0,2)]\n",
        "\n",
        "  #Add the code to print the players choices\n",
        "  print(\"Player1:\", player1_choice)\n",
        "  print(\"Player2:\", player2_choice)\n",
        "\n",
        "  #Add the tie condition\n",
        "  if player1_choice == player2_choice:\n",
        "    print(\"Tie! Both player chose same action.\")\n",
        "\n",
        "  #Add the remaining condition\n",
        "  elif player1_choice == 'paper':\n",
        "    if player2_choice == 'rock':\n",
        "      print(\"Winner is: Player 1\")\n",
        "      player1_score +=1\n",
        "    else:\n",
        "      print(\"Winner is: Player 2\")\n",
        "      player2_score +=1\n",
        "\n",
        "  elif player1_choice == 'rock':\n",
        "    if player2_choice == 'paper':\n",
        "      print(\"Winner is: Player 2\")\n",
        "      player2_score +=1\n",
        "    else:\n",
        "      print(\"Winner is: Player 1\")\n",
        "      player1_score +=1\n",
        "\n",
        "  elif player1_choice == 'scissors':\n",
        "    if player2_choice == 'paper':\n",
        "      print(\"Winner is: Player 1\")\n",
        "      player1_score +=1\n",
        "    else:\n",
        "      print(\"Winner is: Player 2\")\n",
        "      player2_score +=1\n",
        "\n",
        "  #print the score\n",
        "  print(\"Score:\", \"Player1 =\",player1_score, \"Player2 =\",player2_score)\n",
        "\n",
        "  #stop the while loop if the round_counter equals the number of total rounds\n",
        "  if round_counter == int(total_round):\n",
        "    break\n",
        "#Print the outcome of the game by using conditional statements\n",
        "if player1_score == player2_score:\n",
        "  print(\"There is no winner, tie.\")\n",
        "elif player1_score > player2_score:\n",
        "  print(\"Player 1 won with score\", player1_score, \":\", player2_score)\n",
        "elif player1_score < player2_score:\n",
        "  print(\"Player 2 won with score\", player1_score, \":\", player2_score)   "
      ],
      "metadata": {
        "id": "-dcucckON15h"
      },
      "execution_count": null,
      "outputs": []
    }
  ]
}